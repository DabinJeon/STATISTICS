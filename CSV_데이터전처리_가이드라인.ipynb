{
 "cells": [
  {
   "cell_type": "code",
   "execution_count": 3,
   "metadata": {},
   "outputs": [],
   "source": [
    "import pandas as pd\n",
    "import numpy as np"
   ]
  },
  {
   "cell_type": "markdown",
   "metadata": {},
   "source": [
    "# 0) 데이터 불러오기"
   ]
  },
  {
   "cell_type": "markdown",
   "metadata": {},
   "source": [
    "#### 다운받은 파일명으로 바꾼 후 실행"
   ]
  },
  {
   "cell_type": "code",
   "execution_count": 4,
   "metadata": {},
   "outputs": [],
   "source": [
    "data=pd.read_csv(\"다운받은파일명.csv\",sep=\",\",encoding = 'cp949')"
   ]
  },
  {
   "cell_type": "markdown",
   "metadata": {},
   "source": [
    "# 1) 5개년 데이터 추리기"
   ]
  },
  {
   "cell_type": "code",
   "execution_count": 5,
   "metadata": {},
   "outputs": [],
   "source": [
    "data=data[data[\"지표연도\"] != 2013]\n",
    "data=data[data[\"지표연도\"] != 2012]\n",
    "data=data[data[\"지표연도\"] != 2011]\n",
    "data=data[data[\"지표연도\"] != 2010]\n",
    "data=data[data[\"지표연도\"] != 2009]"
   ]
  },
  {
   "cell_type": "markdown",
   "metadata": {},
   "source": [
    "# 2) 범주형 데이터 수치화"
   ]
  },
  {
   "cell_type": "code",
   "execution_count": 6,
   "metadata": {},
   "outputs": [],
   "source": [
    "data=data.replace(\"\\t전체\",0)\n",
    "data=data.replace(\"\\t남\",1)\n",
    "data=data.replace(\"\\t여\",2)"
   ]
  },
  {
   "cell_type": "code",
   "execution_count": 7,
   "metadata": {},
   "outputs": [],
   "source": [
    "data=data.replace(\"\\t10대미만\",0)\n",
    "data=data.replace(\"\\t10대\",1)\n",
    "data=data.replace(\"\\t20대\",2)\n",
    "data=data.replace(\"\\t30대\",3)\n",
    "data=data.replace(\"\\t40대\",4)\n",
    "data=data.replace(\"\\t50대\",5)\n",
    "data=data.replace(\"\\t60대\",6)\n",
    "data=data.replace(\"\\t70대\",7)\n",
    "data=data.replace(\"\\t70대이상\",8)"
   ]
  },
  {
   "cell_type": "markdown",
   "metadata": {},
   "source": [
    "# 3) 요소별로 정렬"
   ]
  },
  {
   "cell_type": "code",
   "execution_count": null,
   "metadata": {},
   "outputs": [],
   "source": [
    "data.columns = [\"year\",\"area_code\",\"시군구명\",\"구분\",\"gender\",\"age\",\"보험료\",\"이벤트건수\",\"대상자건수\",\"지표비율\",\"표준화율\"]"
   ]
  },
  {
   "cell_type": "code",
   "execution_count": 12,
   "metadata": {},
   "outputs": [],
   "source": [
    "data=data.sort_values(by=[\"area_code\",\"year\",\"gender\",\"age\"])"
   ]
  },
  {
   "cell_type": "markdown",
   "metadata": {},
   "source": [
    "# 4) 요소별로 묶어서 합계내기"
   ]
  },
  {
   "cell_type": "code",
   "execution_count": 13,
   "metadata": {},
   "outputs": [
    {
     "name": "stderr",
     "output_type": "stream",
     "text": [
      "<ipython-input-13-0202d813f4b2>:1: FutureWarning: Indexing with multiple keys (implicitly converted to a tuple of keys) will be deprecated, use a list instead.\n",
      "  final=data.groupby([\"area_code\",\"year\",\"gender\",\"age\"])[\"이벤트건수\",\"대상자건수\"].sum()\n"
     ]
    }
   ],
   "source": [
    "final=data.groupby([\"area_code\",\"year\",\"gender\",\"age\"])[\"이벤트건수\",\"대상자건수\"].sum()"
   ]
  },
  {
   "cell_type": "code",
   "execution_count": 17,
   "metadata": {},
   "outputs": [
    {
     "name": "stderr",
     "output_type": "stream",
     "text": [
      "<ipython-input-17-0c719c207984>:1: FutureWarning: Indexing with multiple keys (implicitly converted to a tuple of keys) will be deprecated, use a list instead.\n",
      "  final_x=data.groupby([\"area_code\",\"year\"])[\"이벤트건수\",\"대상자건수\"].sum()\n"
     ]
    }
   ],
   "source": [
    "final_x=data.groupby([\"area_code\",\"year\"])[\"이벤트건수\",\"대상자건수\"].sum()"
   ]
  },
  {
   "cell_type": "markdown",
   "metadata": {},
   "source": [
    "# 5) 컬럼(열) 이름 변경하기"
   ]
  },
  {
   "cell_type": "markdown",
   "metadata": {},
   "source": [
    "#### 컬럼(열)이름 변경하기 ( xxxxx_event, xxxxx_number )"
   ]
  },
  {
   "cell_type": "code",
   "execution_count": 22,
   "metadata": {},
   "outputs": [],
   "source": [
    "final.columns = [\"x_event\",\"x_number\"]"
   ]
  },
  {
   "cell_type": "code",
   "execution_count": 23,
   "metadata": {},
   "outputs": [],
   "source": [
    "final_x.columns = [\"x_event\",\"x_number\"]"
   ]
  },
  {
   "cell_type": "markdown",
   "metadata": {},
   "source": [
    "# 6) 데이터 내보내기"
   ]
  },
  {
   "cell_type": "markdown",
   "metadata": {},
   "source": [
    "#### 파일명 수정해서 내보내기 실행 ( xxxxx.csv, xxxxx_x.csv )"
   ]
  },
  {
   "cell_type": "code",
   "execution_count": 24,
   "metadata": {},
   "outputs": [],
   "source": [
    "final.to_csv(\"이름변경.csv\",encoding=\"cp949\")"
   ]
  },
  {
   "cell_type": "code",
   "execution_count": 25,
   "metadata": {},
   "outputs": [],
   "source": [
    "final_x.to_csv(\"이름변경_x.csv\",encoding=\"cp949\")"
   ]
  },
  {
   "cell_type": "code",
   "execution_count": null,
   "metadata": {},
   "outputs": [],
   "source": []
  }
 ],
 "metadata": {
  "kernelspec": {
   "display_name": "Python 3",
   "language": "python",
   "name": "python3"
  },
  "language_info": {
   "codemirror_mode": {
    "name": "ipython",
    "version": 3
   },
   "file_extension": ".py",
   "mimetype": "text/x-python",
   "name": "python",
   "nbconvert_exporter": "python",
   "pygments_lexer": "ipython3",
   "version": "3.8.3"
  }
 },
 "nbformat": 4,
 "nbformat_minor": 4
}
