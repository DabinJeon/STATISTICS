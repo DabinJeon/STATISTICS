{
 "cells": [
  {
   "cell_type": "code",
   "execution_count": 1,
   "metadata": {},
   "outputs": [],
   "source": [
    "import pandas as pd\n",
    "import numpy as np"
   ]
  },
  {
   "cell_type": "code",
   "execution_count": 18,
   "metadata": {},
   "outputs": [],
   "source": [
    "data_1=pd.read_csv(\"2015_2019_사고심각도분석용데이터/2015_2019_사고심각도분석용데이터_경기.csv\",encoding=\"cp949\")"
   ]
  },
  {
   "cell_type": "code",
   "execution_count": 19,
   "metadata": {},
   "outputs": [
    {
     "data": {
      "text/html": [
       "<div>\n",
       "<style scoped>\n",
       "    .dataframe tbody tr th:only-of-type {\n",
       "        vertical-align: middle;\n",
       "    }\n",
       "\n",
       "    .dataframe tbody tr th {\n",
       "        vertical-align: top;\n",
       "    }\n",
       "\n",
       "    .dataframe thead th {\n",
       "        text-align: right;\n",
       "    }\n",
       "</style>\n",
       "<table border=\"1\" class=\"dataframe\">\n",
       "  <thead>\n",
       "    <tr style=\"text-align: right;\">\n",
       "      <th></th>\n",
       "      <th>발생년</th>\n",
       "      <th>발생일</th>\n",
       "      <th>발생시간</th>\n",
       "      <th>발생지_시도</th>\n",
       "      <th>발생지_시군구</th>\n",
       "      <th>요일</th>\n",
       "      <th>주야</th>\n",
       "      <th>사고내용</th>\n",
       "      <th>사고유형1</th>\n",
       "      <th>사고유형2</th>\n",
       "      <th>...</th>\n",
       "      <th>차량용도피해자</th>\n",
       "      <th>도로종류</th>\n",
       "      <th>도로형태1</th>\n",
       "      <th>도로형태2</th>\n",
       "      <th>기상상태</th>\n",
       "      <th>노면상태</th>\n",
       "      <th>사망</th>\n",
       "      <th>중상</th>\n",
       "      <th>경상</th>\n",
       "      <th>부상신고</th>\n",
       "    </tr>\n",
       "  </thead>\n",
       "  <tbody>\n",
       "    <tr>\n",
       "      <th>0</th>\n",
       "      <td>2015</td>\n",
       "      <td>20150101</td>\n",
       "      <td>00시-02시</td>\n",
       "      <td>경기</td>\n",
       "      <td>부천시</td>\n",
       "      <td>목</td>\n",
       "      <td>야</td>\n",
       "      <td>중상</td>\n",
       "      <td>차대차</td>\n",
       "      <td>측면충돌</td>\n",
       "      <td>...</td>\n",
       "      <td>승용차</td>\n",
       "      <td>고속국도</td>\n",
       "      <td>단일로</td>\n",
       "      <td>기타단일로</td>\n",
       "      <td>맑음</td>\n",
       "      <td>건조</td>\n",
       "      <td>0</td>\n",
       "      <td>2</td>\n",
       "      <td>1</td>\n",
       "      <td>0</td>\n",
       "    </tr>\n",
       "    <tr>\n",
       "      <th>1</th>\n",
       "      <td>2015</td>\n",
       "      <td>20150101</td>\n",
       "      <td>00시-02시</td>\n",
       "      <td>경기</td>\n",
       "      <td>부천시</td>\n",
       "      <td>목</td>\n",
       "      <td>야</td>\n",
       "      <td>경상</td>\n",
       "      <td>차대사람</td>\n",
       "      <td>횡단중</td>\n",
       "      <td>...</td>\n",
       "      <td>보행자</td>\n",
       "      <td>시도</td>\n",
       "      <td>단일로</td>\n",
       "      <td>기타단일로</td>\n",
       "      <td>맑음</td>\n",
       "      <td>건조</td>\n",
       "      <td>0</td>\n",
       "      <td>0</td>\n",
       "      <td>2</td>\n",
       "      <td>0</td>\n",
       "    </tr>\n",
       "    <tr>\n",
       "      <th>2</th>\n",
       "      <td>2015</td>\n",
       "      <td>20150101</td>\n",
       "      <td>00시-02시</td>\n",
       "      <td>경기</td>\n",
       "      <td>동두천시</td>\n",
       "      <td>목</td>\n",
       "      <td>야</td>\n",
       "      <td>경상</td>\n",
       "      <td>차대차</td>\n",
       "      <td>기타</td>\n",
       "      <td>...</td>\n",
       "      <td>개인택시</td>\n",
       "      <td>시도</td>\n",
       "      <td>교차로</td>\n",
       "      <td>교차로부근</td>\n",
       "      <td>맑음</td>\n",
       "      <td>건조</td>\n",
       "      <td>0</td>\n",
       "      <td>0</td>\n",
       "      <td>1</td>\n",
       "      <td>0</td>\n",
       "    </tr>\n",
       "    <tr>\n",
       "      <th>3</th>\n",
       "      <td>2015</td>\n",
       "      <td>20150101</td>\n",
       "      <td>00시-02시</td>\n",
       "      <td>경기</td>\n",
       "      <td>안산시</td>\n",
       "      <td>목</td>\n",
       "      <td>야</td>\n",
       "      <td>중상</td>\n",
       "      <td>차대사람</td>\n",
       "      <td>횡단중</td>\n",
       "      <td>...</td>\n",
       "      <td>보행자</td>\n",
       "      <td>시도</td>\n",
       "      <td>교차로</td>\n",
       "      <td>교차로부근</td>\n",
       "      <td>맑음</td>\n",
       "      <td>건조</td>\n",
       "      <td>0</td>\n",
       "      <td>1</td>\n",
       "      <td>0</td>\n",
       "      <td>0</td>\n",
       "    </tr>\n",
       "    <tr>\n",
       "      <th>4</th>\n",
       "      <td>2015</td>\n",
       "      <td>20150101</td>\n",
       "      <td>00시-02시</td>\n",
       "      <td>경기</td>\n",
       "      <td>구리시</td>\n",
       "      <td>목</td>\n",
       "      <td>야</td>\n",
       "      <td>경상</td>\n",
       "      <td>차대차</td>\n",
       "      <td>기타</td>\n",
       "      <td>...</td>\n",
       "      <td>화물차</td>\n",
       "      <td>지방도</td>\n",
       "      <td>단일로</td>\n",
       "      <td>기타단일로</td>\n",
       "      <td>맑음</td>\n",
       "      <td>건조</td>\n",
       "      <td>0</td>\n",
       "      <td>0</td>\n",
       "      <td>1</td>\n",
       "      <td>0</td>\n",
       "    </tr>\n",
       "  </tbody>\n",
       "</table>\n",
       "<p>5 rows × 41 columns</p>\n",
       "</div>"
      ],
      "text/plain": [
       "    발생년       발생일     발생시간 발생지_시도 발생지_시군구 요일 주야 사고내용 사고유형1 사고유형2  ... 차량용도피해자  \\\n",
       "0  2015  20150101  00시-02시     경기     부천시  목  야   중상   차대차  측면충돌  ...     승용차   \n",
       "1  2015  20150101  00시-02시     경기     부천시  목  야   경상  차대사람   횡단중  ...     보행자   \n",
       "2  2015  20150101  00시-02시     경기    동두천시  목  야   경상   차대차    기타  ...    개인택시   \n",
       "3  2015  20150101  00시-02시     경기     안산시  목  야   중상  차대사람   횡단중  ...     보행자   \n",
       "4  2015  20150101  00시-02시     경기     구리시  목  야   경상   차대차    기타  ...     화물차   \n",
       "\n",
       "   도로종류 도로형태1  도로형태2 기상상태 노면상태 사망 중상 경상 부상신고  \n",
       "0  고속국도   단일로  기타단일로   맑음   건조  0  2  1    0  \n",
       "1    시도   단일로  기타단일로   맑음   건조  0  0  2    0  \n",
       "2    시도   교차로  교차로부근   맑음   건조  0  0  1    0  \n",
       "3    시도   교차로  교차로부근   맑음   건조  0  1  0    0  \n",
       "4   지방도   단일로  기타단일로   맑음   건조  0  0  1    0  \n",
       "\n",
       "[5 rows x 41 columns]"
      ]
     },
     "execution_count": 19,
     "metadata": {},
     "output_type": "execute_result"
    }
   ],
   "source": [
    "data_1.head()"
   ]
  },
  {
   "cell_type": "code",
   "execution_count": 20,
   "metadata": {},
   "outputs": [
    {
     "name": "stdout",
     "output_type": "stream",
     "text": [
      "<class 'pandas.core.frame.DataFrame'>\n",
      "RangeIndex: 263505 entries, 0 to 263504\n",
      "Data columns (total 41 columns):\n",
      " #   Column       Non-Null Count   Dtype \n",
      "---  ------       --------------   ----- \n",
      " 0   발생년          263505 non-null  int64 \n",
      " 1   발생일          263505 non-null  int64 \n",
      " 2   발생시간         263505 non-null  object\n",
      " 3   발생지_시도       263505 non-null  object\n",
      " 4   발생지_시군구      263505 non-null  object\n",
      " 5   요일           263505 non-null  object\n",
      " 6   주야           263505 non-null  object\n",
      " 7   사고내용         263505 non-null  object\n",
      " 8   사고유형1        263505 non-null  object\n",
      " 9   사고유형2        263505 non-null  object\n",
      " 10  사고유형3        263505 non-null  object\n",
      " 11  가해자연령        263505 non-null  object\n",
      " 12  피해자연령        263505 non-null  object\n",
      " 13  가해자음주1       263505 non-null  object\n",
      " 14  가해자음주2       263505 non-null  object\n",
      " 15  가해자보호장구1     263505 non-null  object\n",
      " 16  가해자보호장구2     263505 non-null  object\n",
      " 17  피해자보호장구1     263505 non-null  object\n",
      " 18  피해자보호장구2     263505 non-null  object\n",
      " 19  법규위반         263505 non-null  object\n",
      " 20  가해자신체상해정도    263505 non-null  object\n",
      " 21  피해자신체상해정도    263505 non-null  object\n",
      " 22  가해자신체상해주부위   263505 non-null  object\n",
      " 23  피해자신체상해주부위   263505 non-null  object\n",
      " 24  가해자종별        263505 non-null  object\n",
      " 25  피해자종별        263505 non-null  object\n",
      " 26  차량용도가해자_대분류  263505 non-null  object\n",
      " 27  차량용도가해자_중분류  263505 non-null  object\n",
      " 28  차량용도가해자      263505 non-null  object\n",
      " 29  차량용도피해자_대분류  263505 non-null  object\n",
      " 30  차량용도피해자_중분류  263505 non-null  object\n",
      " 31  차량용도피해자      263505 non-null  object\n",
      " 32  도로종류         263505 non-null  object\n",
      " 33  도로형태1        263505 non-null  object\n",
      " 34  도로형태2        263505 non-null  object\n",
      " 35  기상상태         263505 non-null  object\n",
      " 36  노면상태         263505 non-null  object\n",
      " 37  사망           263505 non-null  int64 \n",
      " 38  중상           263505 non-null  int64 \n",
      " 39  경상           263505 non-null  int64 \n",
      " 40  부상신고         263505 non-null  int64 \n",
      "dtypes: int64(6), object(35)\n",
      "memory usage: 82.4+ MB\n"
     ]
    }
   ],
   "source": [
    "data_1.info()"
   ]
  },
  {
   "cell_type": "code",
   "execution_count": null,
   "metadata": {},
   "outputs": [],
   "source": []
  },
  {
   "cell_type": "code",
   "execution_count": 192,
   "metadata": {},
   "outputs": [
    {
     "data": {
      "text/html": [
       "<div>\n",
       "<style scoped>\n",
       "    .dataframe tbody tr th:only-of-type {\n",
       "        vertical-align: middle;\n",
       "    }\n",
       "\n",
       "    .dataframe tbody tr th {\n",
       "        vertical-align: top;\n",
       "    }\n",
       "\n",
       "    .dataframe thead th {\n",
       "        text-align: right;\n",
       "    }\n",
       "</style>\n",
       "<table border=\"1\" class=\"dataframe\">\n",
       "  <thead>\n",
       "    <tr style=\"text-align: right;\">\n",
       "      <th></th>\n",
       "      <th>발생년</th>\n",
       "      <th>발생일</th>\n",
       "      <th>발생시간</th>\n",
       "      <th>발생지_시도</th>\n",
       "      <th>발생지_시군구</th>\n",
       "      <th>요일</th>\n",
       "      <th>주야</th>\n",
       "      <th>사고내용</th>\n",
       "      <th>사고유형1</th>\n",
       "      <th>사고유형2</th>\n",
       "      <th>...</th>\n",
       "      <th>차량용도피해자</th>\n",
       "      <th>도로종류</th>\n",
       "      <th>도로형태1</th>\n",
       "      <th>도로형태2</th>\n",
       "      <th>기상상태</th>\n",
       "      <th>노면상태</th>\n",
       "      <th>사망</th>\n",
       "      <th>중상</th>\n",
       "      <th>경상</th>\n",
       "      <th>부상신고</th>\n",
       "    </tr>\n",
       "  </thead>\n",
       "  <tbody>\n",
       "    <tr>\n",
       "      <th>0</th>\n",
       "      <td>2015</td>\n",
       "      <td>20150101</td>\n",
       "      <td>00시-02시</td>\n",
       "      <td>경기</td>\n",
       "      <td>부천시</td>\n",
       "      <td>목</td>\n",
       "      <td>야</td>\n",
       "      <td>중상</td>\n",
       "      <td>차대차</td>\n",
       "      <td>측면충돌</td>\n",
       "      <td>...</td>\n",
       "      <td>승용차</td>\n",
       "      <td>고속국도</td>\n",
       "      <td>단일로</td>\n",
       "      <td>기타단일로</td>\n",
       "      <td>맑음</td>\n",
       "      <td>건조</td>\n",
       "      <td>0</td>\n",
       "      <td>2</td>\n",
       "      <td>1</td>\n",
       "      <td>0</td>\n",
       "    </tr>\n",
       "    <tr>\n",
       "      <th>1</th>\n",
       "      <td>2015</td>\n",
       "      <td>20150101</td>\n",
       "      <td>00시-02시</td>\n",
       "      <td>경기</td>\n",
       "      <td>부천시</td>\n",
       "      <td>목</td>\n",
       "      <td>야</td>\n",
       "      <td>경상</td>\n",
       "      <td>차대사람</td>\n",
       "      <td>횡단중</td>\n",
       "      <td>...</td>\n",
       "      <td>보행자</td>\n",
       "      <td>시도</td>\n",
       "      <td>단일로</td>\n",
       "      <td>기타단일로</td>\n",
       "      <td>맑음</td>\n",
       "      <td>건조</td>\n",
       "      <td>0</td>\n",
       "      <td>0</td>\n",
       "      <td>2</td>\n",
       "      <td>0</td>\n",
       "    </tr>\n",
       "  </tbody>\n",
       "</table>\n",
       "<p>2 rows × 41 columns</p>\n",
       "</div>"
      ],
      "text/plain": [
       "    발생년       발생일     발생시간 발생지_시도 발생지_시군구 요일 주야 사고내용 사고유형1 사고유형2  ... 차량용도피해자  \\\n",
       "0  2015  20150101  00시-02시     경기     부천시  목  야   중상   차대차  측면충돌  ...     승용차   \n",
       "1  2015  20150101  00시-02시     경기     부천시  목  야   경상  차대사람   횡단중  ...     보행자   \n",
       "\n",
       "   도로종류 도로형태1  도로형태2 기상상태 노면상태 사망 중상 경상 부상신고  \n",
       "0  고속국도   단일로  기타단일로   맑음   건조  0  2  1    0  \n",
       "1    시도   단일로  기타단일로   맑음   건조  0  0  2    0  \n",
       "\n",
       "[2 rows x 41 columns]"
      ]
     },
     "execution_count": 192,
     "metadata": {},
     "output_type": "execute_result"
    }
   ],
   "source": [
    "data_1.head(2)"
   ]
  },
  {
   "cell_type": "code",
   "execution_count": 193,
   "metadata": {},
   "outputs": [
    {
     "data": {
      "text/html": [
       "<div>\n",
       "<style scoped>\n",
       "    .dataframe tbody tr th:only-of-type {\n",
       "        vertical-align: middle;\n",
       "    }\n",
       "\n",
       "    .dataframe tbody tr th {\n",
       "        vertical-align: top;\n",
       "    }\n",
       "\n",
       "    .dataframe thead th {\n",
       "        text-align: right;\n",
       "    }\n",
       "</style>\n",
       "<table border=\"1\" class=\"dataframe\">\n",
       "  <thead>\n",
       "    <tr style=\"text-align: right;\">\n",
       "      <th></th>\n",
       "      <th>사고번호</th>\n",
       "      <th>발생일시</th>\n",
       "      <th>발생지_시도</th>\n",
       "      <th>발생지_시군구</th>\n",
       "      <th>요일</th>\n",
       "      <th>주야</th>\n",
       "      <th>사고내용</th>\n",
       "      <th>사고유형_대분류</th>\n",
       "      <th>사고유형_중분류</th>\n",
       "      <th>사고유형</th>\n",
       "      <th>...</th>\n",
       "      <th>기상상태</th>\n",
       "      <th>노면상태_대분류</th>\n",
       "      <th>노면상태</th>\n",
       "      <th>교차로형태_대분류</th>\n",
       "      <th>교차로형태</th>\n",
       "      <th>사망자수</th>\n",
       "      <th>중상자수</th>\n",
       "      <th>경상자수</th>\n",
       "      <th>부상신고자수</th>\n",
       "      <th>사고위치폴리곤</th>\n",
       "    </tr>\n",
       "  </thead>\n",
       "  <tbody>\n",
       "    <tr>\n",
       "      <th>0</th>\n",
       "      <td>2015010100100130</td>\n",
       "      <td>2015010106</td>\n",
       "      <td>경기</td>\n",
       "      <td>수원시</td>\n",
       "      <td>목</td>\n",
       "      <td>주</td>\n",
       "      <td>경상</td>\n",
       "      <td>차대차</td>\n",
       "      <td>기타</td>\n",
       "      <td>기타</td>\n",
       "      <td>...</td>\n",
       "      <td>맑음</td>\n",
       "      <td>포장</td>\n",
       "      <td>건조</td>\n",
       "      <td>교차로아님</td>\n",
       "      <td>교차로아님</td>\n",
       "      <td>0</td>\n",
       "      <td>0</td>\n",
       "      <td>2</td>\n",
       "      <td>0</td>\n",
       "      <td>POLYGON((957101 1920401,957101 1920450,957150 ...</td>\n",
       "    </tr>\n",
       "    <tr>\n",
       "      <th>1</th>\n",
       "      <td>2015010100100411</td>\n",
       "      <td>2015010122</td>\n",
       "      <td>경기</td>\n",
       "      <td>수원시</td>\n",
       "      <td>목</td>\n",
       "      <td>야</td>\n",
       "      <td>중상</td>\n",
       "      <td>차대차</td>\n",
       "      <td>추돌</td>\n",
       "      <td>진행중 추돌</td>\n",
       "      <td>...</td>\n",
       "      <td>기타/불명</td>\n",
       "      <td>포장</td>\n",
       "      <td>건조</td>\n",
       "      <td>교차로아님</td>\n",
       "      <td>교차로아님</td>\n",
       "      <td>0</td>\n",
       "      <td>1</td>\n",
       "      <td>0</td>\n",
       "      <td>0</td>\n",
       "      <td>POLYGON((958051 1920951,958051 1921000,958100 ...</td>\n",
       "    </tr>\n",
       "  </tbody>\n",
       "</table>\n",
       "<p>2 rows × 57 columns</p>\n",
       "</div>"
      ],
      "text/plain": [
       "               사고번호        발생일시 발생지_시도 발생지_시군구 요일 주야 사고내용 사고유형_대분류 사고유형_중분류  \\\n",
       "0  2015010100100130  2015010106     경기     수원시  목  주   경상      차대차       기타   \n",
       "1  2015010100100411  2015010122     경기     수원시  목  야   중상      차대차       추돌   \n",
       "\n",
       "     사고유형  ...   기상상태 노면상태_대분류 노면상태 교차로형태_대분류  교차로형태 사망자수 중상자수 경상자수 부상신고자수  \\\n",
       "0      기타  ...     맑음       포장   건조     교차로아님  교차로아님    0    0    2      0   \n",
       "1  진행중 추돌  ...  기타/불명       포장   건조     교차로아님  교차로아님    0    1    0      0   \n",
       "\n",
       "                                             사고위치폴리곤  \n",
       "0  POLYGON((957101 1920401,957101 1920450,957150 ...  \n",
       "1  POLYGON((958051 1920951,958051 1921000,958100 ...  \n",
       "\n",
       "[2 rows x 57 columns]"
      ]
     },
     "execution_count": 193,
     "metadata": {},
     "output_type": "execute_result"
    }
   ],
   "source": [
    "data_2.head(2)"
   ]
  },
  {
   "cell_type": "code",
   "execution_count": null,
   "metadata": {},
   "outputs": [],
   "source": []
  },
  {
   "cell_type": "code",
   "execution_count": null,
   "metadata": {},
   "outputs": [],
   "source": []
  },
  {
   "cell_type": "code",
   "execution_count": null,
   "metadata": {},
   "outputs": [],
   "source": []
  },
  {
   "cell_type": "code",
   "execution_count": 24,
   "metadata": {},
   "outputs": [
    {
     "data": {
      "text/plain": [
       "array(['기타불명', '음주운전', '측정불능', '해당 없음', '음주상태'], dtype=object)"
      ]
     },
     "execution_count": 24,
     "metadata": {},
     "output_type": "execute_result"
    }
   ],
   "source": [
    "data_1[\"가해자음주1\"].unique()"
   ]
  },
  {
   "cell_type": "code",
   "execution_count": 25,
   "metadata": {},
   "outputs": [
    {
     "data": {
      "text/plain": [
       "array(['기타불명', '0.15%~0.19%', '0.10%~0.14%', '0.05%~0.09%', '0.30%~0.34%',\n",
       "       '0.20%~0.24%', '0.25%~0.29%', '측정불응', '0.35%이상', '측정불능', '해당 없음',\n",
       "       '0.03%미만', '0.030~0.049%'], dtype=object)"
      ]
     },
     "execution_count": 25,
     "metadata": {},
     "output_type": "execute_result"
    }
   ],
   "source": [
    "data_1[\"가해자음주2\"].unique()"
   ]
  },
  {
   "cell_type": "code",
   "execution_count": 28,
   "metadata": {},
   "outputs": [
    {
     "data": {
      "text/plain": [
       "array(['안전운전 의무 불이행', '기타', '중앙선 침범', '신호위반', '교차로 통행방법 위반', '안전거리 미확보',\n",
       "       '과속', '보행자 보호의무 위반'], dtype=object)"
      ]
     },
     "execution_count": 28,
     "metadata": {},
     "output_type": "execute_result"
    }
   ],
   "source": [
    "data_1[\"법규위반\"].unique()"
   ]
  },
  {
   "cell_type": "code",
   "execution_count": 29,
   "metadata": {},
   "outputs": [
    {
     "data": {
      "text/plain": [
       "array(['중상', '경상', '없음', '상해없음', '부상신고', '기타불명', '사망'], dtype=object)"
      ]
     },
     "execution_count": 29,
     "metadata": {},
     "output_type": "execute_result"
    }
   ],
   "source": [
    "data_1[\"피해자신체상해정도\"].unique()"
   ]
  },
  {
   "cell_type": "code",
   "execution_count": 30,
   "metadata": {},
   "outputs": [
    {
     "data": {
      "text/plain": [
       "array(['허리', '목', '머리', '기타', '없음', '하퇴부', '발', '상해없음', '어깨', '등', '얼굴',\n",
       "       '팔', '대퇴부', '가슴', '배', '손', '뒷목', '앞목', '불명'], dtype=object)"
      ]
     },
     "execution_count": 30,
     "metadata": {},
     "output_type": "execute_result"
    }
   ],
   "source": [
    "data_1[\"피해자신체상해주부위\"].unique()"
   ]
  },
  {
   "cell_type": "code",
   "execution_count": 31,
   "metadata": {},
   "outputs": [
    {
     "data": {
      "text/plain": [
       "array(['고속국도', '시도', '지방도', '일반국도', '군도', '기타', '특별광역시도'], dtype=object)"
      ]
     },
     "execution_count": 31,
     "metadata": {},
     "output_type": "execute_result"
    }
   ],
   "source": [
    "data_1[\"도로종류\"].unique()"
   ]
  },
  {
   "cell_type": "code",
   "execution_count": 32,
   "metadata": {},
   "outputs": [
    {
     "data": {
      "text/plain": [
       "array(['단일로', '교차로', '기타/불명', '철길건널목', '기타', '불명'], dtype=object)"
      ]
     },
     "execution_count": 32,
     "metadata": {},
     "output_type": "execute_result"
    }
   ],
   "source": [
    "data_1[\"도로형태1\"].unique()"
   ]
  },
  {
   "cell_type": "code",
   "execution_count": 33,
   "metadata": {},
   "outputs": [
    {
     "data": {
      "text/plain": [
       "array(['기타단일로', '교차로부근', '교차로내', '횡단보도상', '기타/불명', '터널안', '지하차도(도로)내',\n",
       "       '교량위', '횡단보도부근', '고가도로위', '철길건널목', '기타', '교차로횡단보도내', '불명'],\n",
       "      dtype=object)"
      ]
     },
     "execution_count": 33,
     "metadata": {},
     "output_type": "execute_result"
    }
   ],
   "source": [
    "data_1[\"도로형태2\"].unique()"
   ]
  },
  {
   "cell_type": "code",
   "execution_count": 34,
   "metadata": {},
   "outputs": [
    {
     "data": {
      "text/plain": [
       "array(['맑음', '눈', '기타/불명', '흐림', '안개', '비'], dtype=object)"
      ]
     },
     "execution_count": 34,
     "metadata": {},
     "output_type": "execute_result"
    }
   ],
   "source": [
    "data_1[\"기상상태\"].unique()"
   ]
  },
  {
   "cell_type": "code",
   "execution_count": 35,
   "metadata": {},
   "outputs": [
    {
     "data": {
      "text/plain": [
       "array(['건조', '서리/결빙', '기타', '젖음/습기', '적설', '해빙', '침수'], dtype=object)"
      ]
     },
     "execution_count": 35,
     "metadata": {},
     "output_type": "execute_result"
    }
   ],
   "source": [
    "data_1[\"노면상태\"].unique()"
   ]
  },
  {
   "cell_type": "code",
   "execution_count": 36,
   "metadata": {},
   "outputs": [
    {
     "data": {
      "text/plain": [
       "array([ 0,  1,  3,  2,  4,  5,  9,  6,  8, 13, 21,  7, 17, 14, 12, 10, 11,\n",
       "       26, 19, 39, 43, 31, 27, 16, 37, 22, 15, 18], dtype=int64)"
      ]
     },
     "execution_count": 36,
     "metadata": {},
     "output_type": "execute_result"
    }
   ],
   "source": [
    "data_1[\"부상신고\"].unique()"
   ]
  },
  {
   "cell_type": "code",
   "execution_count": 37,
   "metadata": {},
   "outputs": [
    {
     "data": {
      "text/plain": [
       "array(['안전벨트/카시트', '보행자', '기타불명', '없음', '안전모'], dtype=object)"
      ]
     },
     "execution_count": 37,
     "metadata": {},
     "output_type": "execute_result"
    }
   ],
   "source": [
    "data_1[\"피해자보호장구1\"].unique()"
   ]
  },
  {
   "cell_type": "code",
   "execution_count": 38,
   "metadata": {},
   "outputs": [
    {
     "data": {
      "text/plain": [
       "array(['착용', '보행자', '기타불명', '착용불명', '없음', '미착용'], dtype=object)"
      ]
     },
     "execution_count": 38,
     "metadata": {},
     "output_type": "execute_result"
    }
   ],
   "source": [
    "data_1[\"피해자보호장구2\"].unique()"
   ]
  },
  {
   "cell_type": "code",
   "execution_count": null,
   "metadata": {},
   "outputs": [],
   "source": []
  },
  {
   "cell_type": "code",
   "execution_count": 39,
   "metadata": {},
   "outputs": [],
   "source": [
    "data_2=pd.read_csv(\"교통사고GIS분석_2015_2019_201019/교통사고GIS분석_2015_2019_경기.csv\",encoding=\"cp949\")"
   ]
  },
  {
   "cell_type": "code",
   "execution_count": 195,
   "metadata": {},
   "outputs": [
    {
     "data": {
      "text/plain": [
       "array(['목', '금', '토', '일', '월', '화', '수'], dtype=object)"
      ]
     },
     "execution_count": 195,
     "metadata": {},
     "output_type": "execute_result"
    }
   ],
   "source": [
    "data_2[\"요일\"].unique()"
   ]
  },
  {
   "cell_type": "code",
   "execution_count": 22,
   "metadata": {},
   "outputs": [
    {
     "name": "stdout",
     "output_type": "stream",
     "text": [
      "<class 'pandas.core.frame.DataFrame'>\n",
      "RangeIndex: 263505 entries, 0 to 263504\n",
      "Data columns (total 57 columns):\n",
      " #   Column        Non-Null Count   Dtype \n",
      "---  ------        --------------   ----- \n",
      " 0   사고번호          263505 non-null  int64 \n",
      " 1   발생일시          263505 non-null  int64 \n",
      " 2   발생지_시도        263505 non-null  object\n",
      " 3   발생지_시군구       263505 non-null  object\n",
      " 4   요일            263505 non-null  object\n",
      " 5   주야            263505 non-null  object\n",
      " 6   사고내용          263505 non-null  object\n",
      " 7   사고유형_대분류      263505 non-null  object\n",
      " 8   사고유형_중분류      263505 non-null  object\n",
      " 9   사고유형          263505 non-null  object\n",
      " 10  가해자성별         263505 non-null  object\n",
      " 11  피해자성별         263505 non-null  object\n",
      " 12  연령가해자         263505 non-null  object\n",
      " 13  연령피해자         263505 non-null  object\n",
      " 14  보호장구가해자_대분류   263505 non-null  object\n",
      " 15  보호장구가해자       263505 non-null  object\n",
      " 16  보호장구피해자_대분류   263505 non-null  object\n",
      " 17  보호장구피해자       263505 non-null  object\n",
      " 18  법규위반가해자       263505 non-null  object\n",
      " 19  법규위반피해자       263505 non-null  object\n",
      " 20  행동유형가해자_대분류   263505 non-null  object\n",
      " 21  행동유형가해자_중분류   263505 non-null  object\n",
      " 22  행동유형가해자       263505 non-null  object\n",
      " 23  행동유형피해자_대분류   263505 non-null  object\n",
      " 24  행동유형피해자_중분류   263505 non-null  object\n",
      " 25  행동유형피해자       263505 non-null  object\n",
      " 26  신체상해정도가해자     263505 non-null  object\n",
      " 27  신체상해정도피해자     263505 non-null  object\n",
      " 28  당사자종별가해자_대분류  263505 non-null  object\n",
      " 29  당사자종별가해자      263505 non-null  object\n",
      " 30  당사자종별피해자_대분류  263505 non-null  object\n",
      " 31  당사자종별피해자      263505 non-null  object\n",
      " 32  차량용도가해자_대분류   263505 non-null  object\n",
      " 33  차량용도가해자_중분류   263505 non-null  object\n",
      " 34  차량용도가해자       263505 non-null  object\n",
      " 35  차량용도피해자_대분류   263505 non-null  object\n",
      " 36  차량용도피해자_중분류   263505 non-null  object\n",
      " 37  차량용도피해자       263505 non-null  object\n",
      " 38  도로종류          263505 non-null  object\n",
      " 39  도로형태_대분류      263505 non-null  object\n",
      " 40  도로형태          263505 non-null  object\n",
      " 41  노인보호구역        263505 non-null  object\n",
      " 42  어린이보호구역       263505 non-null  object\n",
      " 43  자전거도로         159513 non-null  object\n",
      " 44  도로선형_대분류      263505 non-null  object\n",
      " 45  도로선형_중분류      263505 non-null  object\n",
      " 46  도로선형          263505 non-null  object\n",
      " 47  기상상태          263505 non-null  object\n",
      " 48  노면상태_대분류      263505 non-null  object\n",
      " 49  노면상태          263505 non-null  object\n",
      " 50  교차로형태_대분류     263505 non-null  object\n",
      " 51  교차로형태         263505 non-null  object\n",
      " 52  사망자수          263505 non-null  int64 \n",
      " 53  중상자수          263505 non-null  int64 \n",
      " 54  경상자수          263505 non-null  int64 \n",
      " 55  부상신고자수        263505 non-null  int64 \n",
      " 56  사고위치폴리곤       263505 non-null  object\n",
      "dtypes: int64(6), object(51)\n",
      "memory usage: 114.6+ MB\n"
     ]
    }
   ],
   "source": [
    "data_2.info()"
   ]
  },
  {
   "cell_type": "code",
   "execution_count": null,
   "metadata": {},
   "outputs": [],
   "source": []
  },
  {
   "cell_type": "code",
   "execution_count": 40,
   "metadata": {},
   "outputs": [],
   "source": [
    "data=pd.concat([data_1,data_2],axis=1)"
   ]
  },
  {
   "cell_type": "code",
   "execution_count": 41,
   "metadata": {},
   "outputs": [
    {
     "name": "stdout",
     "output_type": "stream",
     "text": [
      "<class 'pandas.core.frame.DataFrame'>\n",
      "RangeIndex: 263505 entries, 0 to 263504\n",
      "Data columns (total 98 columns):\n",
      " #   Column        Non-Null Count   Dtype \n",
      "---  ------        --------------   ----- \n",
      " 0   발생년           263505 non-null  int64 \n",
      " 1   발생일           263505 non-null  int64 \n",
      " 2   발생시간          263505 non-null  object\n",
      " 3   발생지_시도        263505 non-null  object\n",
      " 4   발생지_시군구       263505 non-null  object\n",
      " 5   요일            263505 non-null  object\n",
      " 6   주야            263505 non-null  object\n",
      " 7   사고내용          263505 non-null  object\n",
      " 8   사고유형1         263505 non-null  object\n",
      " 9   사고유형2         263505 non-null  object\n",
      " 10  사고유형3         263505 non-null  object\n",
      " 11  가해자연령         263505 non-null  object\n",
      " 12  피해자연령         263505 non-null  object\n",
      " 13  가해자음주1        263505 non-null  object\n",
      " 14  가해자음주2        263505 non-null  object\n",
      " 15  가해자보호장구1      263505 non-null  object\n",
      " 16  가해자보호장구2      263505 non-null  object\n",
      " 17  피해자보호장구1      263505 non-null  object\n",
      " 18  피해자보호장구2      263505 non-null  object\n",
      " 19  법규위반          263505 non-null  object\n",
      " 20  가해자신체상해정도     263505 non-null  object\n",
      " 21  피해자신체상해정도     263505 non-null  object\n",
      " 22  가해자신체상해주부위    263505 non-null  object\n",
      " 23  피해자신체상해주부위    263505 non-null  object\n",
      " 24  가해자종별         263505 non-null  object\n",
      " 25  피해자종별         263505 non-null  object\n",
      " 26  차량용도가해자_대분류   263505 non-null  object\n",
      " 27  차량용도가해자_중분류   263505 non-null  object\n",
      " 28  차량용도가해자       263505 non-null  object\n",
      " 29  차량용도피해자_대분류   263505 non-null  object\n",
      " 30  차량용도피해자_중분류   263505 non-null  object\n",
      " 31  차량용도피해자       263505 non-null  object\n",
      " 32  도로종류          263505 non-null  object\n",
      " 33  도로형태1         263505 non-null  object\n",
      " 34  도로형태2         263505 non-null  object\n",
      " 35  기상상태          263505 non-null  object\n",
      " 36  노면상태          263505 non-null  object\n",
      " 37  사망            263505 non-null  int64 \n",
      " 38  중상            263505 non-null  int64 \n",
      " 39  경상            263505 non-null  int64 \n",
      " 40  부상신고          263505 non-null  int64 \n",
      " 41  사고번호          263505 non-null  int64 \n",
      " 42  발생일시          263505 non-null  int64 \n",
      " 43  발생지_시도        263505 non-null  object\n",
      " 44  발생지_시군구       263505 non-null  object\n",
      " 45  요일            263505 non-null  object\n",
      " 46  주야            263505 non-null  object\n",
      " 47  사고내용          263505 non-null  object\n",
      " 48  사고유형_대분류      263505 non-null  object\n",
      " 49  사고유형_중분류      263505 non-null  object\n",
      " 50  사고유형          263505 non-null  object\n",
      " 51  가해자성별         263505 non-null  object\n",
      " 52  피해자성별         263505 non-null  object\n",
      " 53  연령가해자         263505 non-null  object\n",
      " 54  연령피해자         263505 non-null  object\n",
      " 55  보호장구가해자_대분류   263505 non-null  object\n",
      " 56  보호장구가해자       263505 non-null  object\n",
      " 57  보호장구피해자_대분류   263505 non-null  object\n",
      " 58  보호장구피해자       263505 non-null  object\n",
      " 59  법규위반가해자       263505 non-null  object\n",
      " 60  법규위반피해자       263505 non-null  object\n",
      " 61  행동유형가해자_대분류   263505 non-null  object\n",
      " 62  행동유형가해자_중분류   263505 non-null  object\n",
      " 63  행동유형가해자       263505 non-null  object\n",
      " 64  행동유형피해자_대분류   263505 non-null  object\n",
      " 65  행동유형피해자_중분류   263505 non-null  object\n",
      " 66  행동유형피해자       263505 non-null  object\n",
      " 67  신체상해정도가해자     263505 non-null  object\n",
      " 68  신체상해정도피해자     263505 non-null  object\n",
      " 69  당사자종별가해자_대분류  263505 non-null  object\n",
      " 70  당사자종별가해자      263505 non-null  object\n",
      " 71  당사자종별피해자_대분류  263505 non-null  object\n",
      " 72  당사자종별피해자      263505 non-null  object\n",
      " 73  차량용도가해자_대분류   263505 non-null  object\n",
      " 74  차량용도가해자_중분류   263505 non-null  object\n",
      " 75  차량용도가해자       263505 non-null  object\n",
      " 76  차량용도피해자_대분류   263505 non-null  object\n",
      " 77  차량용도피해자_중분류   263505 non-null  object\n",
      " 78  차량용도피해자       263505 non-null  object\n",
      " 79  도로종류          263505 non-null  object\n",
      " 80  도로형태_대분류      263505 non-null  object\n",
      " 81  도로형태          263505 non-null  object\n",
      " 82  노인보호구역        263505 non-null  object\n",
      " 83  어린이보호구역       263505 non-null  object\n",
      " 84  자전거도로         159513 non-null  object\n",
      " 85  도로선형_대분류      263505 non-null  object\n",
      " 86  도로선형_중분류      263505 non-null  object\n",
      " 87  도로선형          263505 non-null  object\n",
      " 88  기상상태          263505 non-null  object\n",
      " 89  노면상태_대분류      263505 non-null  object\n",
      " 90  노면상태          263505 non-null  object\n",
      " 91  교차로형태_대분류     263505 non-null  object\n",
      " 92  교차로형태         263505 non-null  object\n",
      " 93  사망자수          263505 non-null  int64 \n",
      " 94  중상자수          263505 non-null  int64 \n",
      " 95  경상자수          263505 non-null  int64 \n",
      " 96  부상신고자수        263505 non-null  int64 \n",
      " 97  사고위치폴리곤       263505 non-null  object\n",
      "dtypes: int64(12), object(86)\n",
      "memory usage: 197.0+ MB\n"
     ]
    }
   ],
   "source": [
    "data.info()"
   ]
  },
  {
   "cell_type": "code",
   "execution_count": 43,
   "metadata": {},
   "outputs": [],
   "source": [
    "dataset= data.loc[:,~data.columns.duplicated()]"
   ]
  },
  {
   "cell_type": "code",
   "execution_count": null,
   "metadata": {},
   "outputs": [],
   "source": []
  },
  {
   "cell_type": "code",
   "execution_count": null,
   "metadata": {},
   "outputs": [],
   "source": []
  },
  {
   "cell_type": "code",
   "execution_count": null,
   "metadata": {},
   "outputs": [],
   "source": []
  },
  {
   "cell_type": "code",
   "execution_count": null,
   "metadata": {},
   "outputs": [],
   "source": []
  },
  {
   "cell_type": "code",
   "execution_count": 172,
   "metadata": {},
   "outputs": [
    {
     "data": {
      "text/html": [
       "<div>\n",
       "<style scoped>\n",
       "    .dataframe tbody tr th:only-of-type {\n",
       "        vertical-align: middle;\n",
       "    }\n",
       "\n",
       "    .dataframe tbody tr th {\n",
       "        vertical-align: top;\n",
       "    }\n",
       "\n",
       "    .dataframe thead th {\n",
       "        text-align: right;\n",
       "    }\n",
       "</style>\n",
       "<table border=\"1\" class=\"dataframe\">\n",
       "  <thead>\n",
       "    <tr style=\"text-align: right;\">\n",
       "      <th></th>\n",
       "      <th>사고내용</th>\n",
       "      <th>사고유형1</th>\n",
       "      <th>피해자신체상해정도</th>\n",
       "      <th>피해자신체상해주부위</th>\n",
       "      <th>도로형태1</th>\n",
       "      <th>기상상태</th>\n",
       "      <th>노면상태</th>\n",
       "      <th>가해자성별</th>\n",
       "    </tr>\n",
       "  </thead>\n",
       "  <tbody>\n",
       "    <tr>\n",
       "      <th>0</th>\n",
       "      <td>중상</td>\n",
       "      <td>차대차</td>\n",
       "      <td>중상</td>\n",
       "      <td>허리</td>\n",
       "      <td>단일로</td>\n",
       "      <td>맑음</td>\n",
       "      <td>건조</td>\n",
       "      <td>남</td>\n",
       "    </tr>\n",
       "    <tr>\n",
       "      <th>1</th>\n",
       "      <td>경상</td>\n",
       "      <td>차대사람</td>\n",
       "      <td>경상</td>\n",
       "      <td>허리</td>\n",
       "      <td>단일로</td>\n",
       "      <td>맑음</td>\n",
       "      <td>건조</td>\n",
       "      <td>남</td>\n",
       "    </tr>\n",
       "  </tbody>\n",
       "</table>\n",
       "</div>"
      ],
      "text/plain": [
       "  사고내용 사고유형1 피해자신체상해정도 피해자신체상해주부위 도로형태1 기상상태 노면상태 가해자성별\n",
       "0   중상   차대차        중상         허리   단일로   맑음   건조     남\n",
       "1   경상  차대사람        경상         허리   단일로   맑음   건조     남"
      ]
     },
     "execution_count": 172,
     "metadata": {},
     "output_type": "execute_result"
    }
   ],
   "source": [
    "dataset_apriori.head(2)"
   ]
  },
  {
   "cell_type": "code",
   "execution_count": 194,
   "metadata": {},
   "outputs": [
    {
     "name": "stdout",
     "output_type": "stream",
     "text": [
      "<class 'pandas.core.frame.DataFrame'>\n",
      "RangeIndex: 263505 entries, 0 to 263504\n",
      "Data columns (total 8 columns):\n",
      " #   Column      Non-Null Count   Dtype \n",
      "---  ------      --------------   ----- \n",
      " 0   사고내용        263505 non-null  object\n",
      " 1   사고유형1       263505 non-null  object\n",
      " 2   피해자신체상해정도   263505 non-null  object\n",
      " 3   피해자신체상해주부위  263505 non-null  object\n",
      " 4   도로형태1       263505 non-null  object\n",
      " 5   기상상태        263505 non-null  object\n",
      " 6   노면상태        263505 non-null  object\n",
      " 7   가해자성별       263505 non-null  object\n",
      "dtypes: object(8)\n",
      "memory usage: 16.1+ MB\n"
     ]
    }
   ],
   "source": [
    "dataset_apriori.info()"
   ]
  },
  {
   "cell_type": "code",
   "execution_count": 188,
   "metadata": {},
   "outputs": [],
   "source": [
    "apriori_list=dataset_apriori.values.tolist()"
   ]
  },
  {
   "cell_type": "code",
   "execution_count": null,
   "metadata": {},
   "outputs": [],
   "source": [
    "apriori_list."
   ]
  },
  {
   "cell_type": "code",
   "execution_count": null,
   "metadata": {},
   "outputs": [],
   "source": []
  },
  {
   "cell_type": "code",
   "execution_count": null,
   "metadata": {},
   "outputs": [],
   "source": []
  },
  {
   "cell_type": "code",
   "execution_count": null,
   "metadata": {},
   "outputs": [],
   "source": []
  },
  {
   "cell_type": "code",
   "execution_count": null,
   "metadata": {},
   "outputs": [],
   "source": []
  },
  {
   "cell_type": "code",
   "execution_count": null,
   "metadata": {},
   "outputs": [],
   "source": []
  },
  {
   "cell_type": "code",
   "execution_count": 48,
   "metadata": {},
   "outputs": [],
   "source": [
    "import seaborn as sns\n",
    "import matplotlib.pyplot as plt"
   ]
  },
  {
   "cell_type": "code",
   "execution_count": 52,
   "metadata": {},
   "outputs": [],
   "source": [
    "import warnings\n",
    "warnings.filterwarnings(\"ignore\")"
   ]
  },
  {
   "cell_type": "code",
   "execution_count": 56,
   "metadata": {},
   "outputs": [],
   "source": [
    "from matplotlib import font_manager, rc\n",
    "font_name = font_manager.FontProperties(fname=\"c:/Windows/Fonts/malgun.ttf\").get_name()\n",
    "rc('font', family=font_name)"
   ]
  },
  {
   "cell_type": "code",
   "execution_count": 74,
   "metadata": {},
   "outputs": [
    {
     "data": {
      "image/png": "[encoded data removed]",
      "text/plain": [
       "<Figure size 1296x432 with 2 Axes>"
      ]
     },
     "metadata": {
      "needs_background": "light"
     },
     "output_type": "display_data"
    }
   ],
   "source": [
    "fig, (ax1,ax2) = plt.subplots(2,1, figsize=(18,6))\n",
    "\n",
    "sns.countplot('사고내용',data=dataset, ax=ax1)\n",
    "sns.countplot('사고유형',data=dataset, ax=ax2)\n",
    "\n",
    "plt.tight_layout()"
   ]
  },
  {
   "cell_type": "code",
   "execution_count": 67,
   "metadata": {},
   "outputs": [
    {
     "data": {
      "text/plain": [
       "array(['허리', '목', '머리', '기타', '없음', '하퇴부', '발', '상해없음', '어깨', '등', '얼굴',\n",
       "       '팔', '대퇴부', '가슴', '배', '손', '뒷목', '앞목', '불명'], dtype=object)"
      ]
     },
     "execution_count": 67,
     "metadata": {},
     "output_type": "execute_result"
    }
   ],
   "source": [
    "dataset[\"피해자신체상해주부위\"].unique()"
   ]
  },
  {
   "cell_type": "code",
   "execution_count": 72,
   "metadata": {},
   "outputs": [
    {
     "data": {
      "image/png": "[encoded data removed]",
      "text/plain": [
       "<Figure size 1152x288 with 1 Axes>"
      ]
     },
     "metadata": {
      "needs_background": "light"
     },
     "output_type": "display_data"
    }
   ],
   "source": [
    "fig, (ax1) = plt.subplots(1,1, figsize=(16,4))\n",
    "sns.countplot('피해자신체상해주부위',data=dataset, ax=ax1)\n",
    "plt.tight_layout()"
   ]
  },
  {
   "cell_type": "code",
   "execution_count": 75,
   "metadata": {},
   "outputs": [
    {
     "data": {
      "text/plain": [
       "array(['38세', '21세', '55세', '51세', '29세', '48세', '34세', '43세', '불명',\n",
       "       '57세', '8세', '42세', '24세', '63세', '37세', '45세', '67세', '62세',\n",
       "       '23세', '52세', '27세', '66세', '28세', '49세', '31세', '44세', '85세',\n",
       "       '59세', '17세', '58세', '64세', '53세', '25세', '41세', '54세', '18세',\n",
       "       '39세', '46세', '56세', '20세', '91세', '32세', '72세', '30세', '19세',\n",
       "       '35세', '47세', '50세', '74세', '36세', '33세', '84세', '76세', '16세',\n",
       "       '65세', '61세', '13세', '78세', '15세', '12세', '69세', '14세', '73세',\n",
       "       '22세', '77세', '40세', '71세', '68세', '79세', '60세', '2세', '81세',\n",
       "       '83세', '75세', '9세', '26세', '11세', '70세', '86세', '6세', '80세', '82세',\n",
       "       '10세', '3세', '7세', '5세', '87세', '96세', '90세', '89세', '88세', '93세',\n",
       "       '92세', '1세', '4세', '94세', '95세', '98세', '97세', '106세', '99세',\n",
       "       '117세', '103세', '109세', '105세', '158세', '없음'], dtype=object)"
      ]
     },
     "execution_count": 75,
     "metadata": {},
     "output_type": "execute_result"
    }
   ],
   "source": [
    "dataset[\"피해자연령\"].unique()"
   ]
  },
  {
   "cell_type": "code",
   "execution_count": null,
   "metadata": {},
   "outputs": [],
   "source": [
    "dataset[\"피해자연령\"]"
   ]
  },
  {
   "cell_type": "code",
   "execution_count": 76,
   "metadata": {},
   "outputs": [],
   "source": [
    "import re"
   ]
  },
  {
   "cell_type": "code",
   "execution_count": null,
   "metadata": {},
   "outputs": [],
   "source": [
    "# dataset['피해자연령'].str.extract(\"[0-9.]+\")"
   ]
  },
  {
   "cell_type": "code",
   "execution_count": 81,
   "metadata": {},
   "outputs": [],
   "source": [
    "pick_float=[]\n",
    "pick_float2=[]\n",
    "\n",
    "for i in dataset[\"피해자연령\"]:\n",
    "    pick_float=re.findall(\"[0-9.]+\",i)\n",
    "    pick_float2+=pick_float"
   ]
  },
  {
   "cell_type": "code",
   "execution_count": 82,
   "metadata": {},
   "outputs": [],
   "source": [
    "pick_float3=pd.Series(pick_float2)"
   ]
  },
  {
   "cell_type": "code",
   "execution_count": 83,
   "metadata": {},
   "outputs": [
    {
     "data": {
      "text/plain": [
       "array(['38', '21', '55', '51', '29', '48', '34', '43', '57', '8', '42',\n",
       "       '24', '63', '37', '45', '67', '62', '23', '52', '27', '66', '28',\n",
       "       '49', '31', '44', '85', '59', '17', '58', '64', '53', '25', '41',\n",
       "       '54', '18', '39', '46', '56', '20', '91', '32', '72', '30', '19',\n",
       "       '35', '47', '50', '74', '36', '33', '84', '76', '16', '65', '61',\n",
       "       '13', '78', '15', '12', '69', '14', '73', '22', '77', '40', '71',\n",
       "       '68', '79', '60', '2', '81', '83', '75', '9', '26', '11', '70',\n",
       "       '86', '6', '80', '82', '10', '3', '7', '5', '87', '96', '90', '89',\n",
       "       '88', '93', '92', '1', '4', '94', '95', '98', '97', '106', '99',\n",
       "       '117', '103', '109', '105', '158'], dtype=object)"
      ]
     },
     "execution_count": 83,
     "metadata": {},
     "output_type": "execute_result"
    }
   ],
   "source": [
    "pick_float3.unique()"
   ]
  },
  {
   "cell_type": "code",
   "execution_count": 92,
   "metadata": {},
   "outputs": [],
   "source": [
    "pick_float3=pd.Series(pick_float2)\n",
    "dataset[\"피해자연령\"]=pick_float3\n",
    "dataset[\"피해자연령\"]=pd.to_numeric(dataset[\"피해자연령\"])"
   ]
  },
  {
   "cell_type": "code",
   "execution_count": 95,
   "metadata": {},
   "outputs": [],
   "source": [
    "dataset_old=dataset[dataset[\"피해자연령\"]>=65]"
   ]
  },
  {
   "cell_type": "code",
   "execution_count": 97,
   "metadata": {},
   "outputs": [
    {
     "data": {
      "text/plain": [
       "array(['아니오', '예'], dtype=object)"
      ]
     },
     "execution_count": 97,
     "metadata": {},
     "output_type": "execute_result"
    }
   ],
   "source": [
    "dataset_old[\"노인보호구역\"].unique()"
   ]
  },
  {
   "cell_type": "code",
   "execution_count": 106,
   "metadata": {},
   "outputs": [
    {
     "name": "stdout",
     "output_type": "stream",
     "text": [
      "1\n",
      "24990\n"
     ]
    }
   ],
   "source": [
    "print(len(dataset_old[dataset_old[\"노인보호구역\"]==\"예\"]))\n",
    "print(len(dataset_old[dataset_old[\"노인보호구역\"]==\"아니오\"]))"
   ]
  },
  {
   "cell_type": "code",
   "execution_count": 107,
   "metadata": {},
   "outputs": [
    {
     "name": "stdout",
     "output_type": "stream",
     "text": [
      "105\n",
      "24886\n"
     ]
    }
   ],
   "source": [
    "print(len(dataset_old[dataset_old[\"어린이보호구역\"]==\"예\"]))\n",
    "print(len(dataset_old[dataset_old[\"어린이보호구역\"]==\"아니오\"]))"
   ]
  },
  {
   "cell_type": "code",
   "execution_count": 111,
   "metadata": {},
   "outputs": [
    {
     "data": {
      "text/plain": [
       "array(['보행자', '승용차', '없음', '화물차', '원동기장치자전거', '이륜차', '승합차', '건설기계', '자전거',\n",
       "       '특수차', '불명', '농기계', '기타', '사륜오토바이(ATV)', '개인형이동수단(PM)'],\n",
       "      dtype=object)"
      ]
     },
     "execution_count": 111,
     "metadata": {},
     "output_type": "execute_result"
    }
   ],
   "source": [
    "dataset_old[\"피해자종별\"].unique()"
   ]
  },
  {
   "cell_type": "code",
   "execution_count": 112,
   "metadata": {},
   "outputs": [],
   "source": [
    "dataset_old_pedestrian=dataset_old[dataset_old[\"피해자종별\"]==\"보행자\"]"
   ]
  },
  {
   "cell_type": "code",
   "execution_count": 113,
   "metadata": {},
   "outputs": [
    {
     "data": {
      "text/plain": [
       "array(['02시-04시', '18시-20시', '10시-12시', '22시-24시', '04시-06시', '14시-16시',\n",
       "       '06시-08시', '08시-10시', '12시-14시', '20시-22시', '16시-18시', '00시-02시'],\n",
       "      dtype=object)"
      ]
     },
     "execution_count": 113,
     "metadata": {},
     "output_type": "execute_result"
    }
   ],
   "source": [
    "dataset_old_pedestrian[\"발생시간\"].unique()"
   ]
  },
  {
   "cell_type": "code",
   "execution_count": 116,
   "metadata": {
    "scrolled": false
   },
   "outputs": [
    {
     "data": {
      "image/png": "[encoded data removed]",
      "text/plain": [
       "<Figure size 1152x288 with 1 Axes>"
      ]
     },
     "metadata": {
      "needs_background": "light"
     },
     "output_type": "display_data"
    }
   ],
   "source": [
    "fig, (ax1) = plt.subplots(1,1, figsize=(16,4))\n",
    "sns.countplot('발생시간',data=dataset_old_pedestrian, ax=ax1, order = ['00시-02시', '02시-04시', '04시-06시','06시-08시','08시-10시','10시-12시','12시-14시','14시-16시','16시-18시','18시-20시','20시-22시','22시-24시'])\n",
    "plt.tight_layout()"
   ]
  },
  {
   "cell_type": "code",
   "execution_count": 117,
   "metadata": {},
   "outputs": [
    {
     "name": "stdout",
     "output_type": "stream",
     "text": [
      "0\n",
      "4689\n"
     ]
    }
   ],
   "source": [
    "print(len(dataset_old_pedestrian[dataset_old_pedestrian[\"노인보호구역\"]==\"예\"]))\n",
    "print(len(dataset_old_pedestrian[dataset_old_pedestrian[\"노인보호구역\"]==\"아니오\"]))"
   ]
  },
  {
   "cell_type": "code",
   "execution_count": 149,
   "metadata": {},
   "outputs": [
    {
     "data": {
      "text/plain": [
       "array(['기타단일로', '교차로내', '횡단보도상', '횡단보도부근', '교차로부근', '기타/불명', '교량위',\n",
       "       '고가도로위', '터널안', '기타', '교차로횡단보도내', '주차장', '지하차도(도로)내', '불명'],\n",
       "      dtype=object)"
      ]
     },
     "execution_count": 149,
     "metadata": {},
     "output_type": "execute_result"
    }
   ],
   "source": [
    "dataset_old_pedestrian[\"도로형태\"].unique()"
   ]
  },
  {
   "cell_type": "code",
   "execution_count": 119,
   "metadata": {},
   "outputs": [
    {
     "name": "stdout",
     "output_type": "stream",
     "text": [
      "<class 'pandas.core.frame.DataFrame'>\n",
      "Int64Index: 4689 entries, 19 to 251770\n",
      "Data columns (total 84 columns):\n",
      " #   Column        Non-Null Count  Dtype  \n",
      "---  ------        --------------  -----  \n",
      " 0   발생년           4689 non-null   int64  \n",
      " 1   발생일           4689 non-null   int64  \n",
      " 2   발생시간          4689 non-null   object \n",
      " 3   발생지_시도        4689 non-null   object \n",
      " 4   발생지_시군구       4689 non-null   object \n",
      " 5   요일            4689 non-null   object \n",
      " 6   주야            4689 non-null   object \n",
      " 7   사고내용          4689 non-null   object \n",
      " 8   사고유형1         4689 non-null   object \n",
      " 9   사고유형2         4689 non-null   object \n",
      " 10  사고유형3         4689 non-null   object \n",
      " 11  가해자연령         4689 non-null   object \n",
      " 12  피해자연령         4689 non-null   float64\n",
      " 13  가해자음주1        4689 non-null   object \n",
      " 14  가해자음주2        4689 non-null   object \n",
      " 15  가해자보호장구1      4689 non-null   object \n",
      " 16  가해자보호장구2      4689 non-null   object \n",
      " 17  피해자보호장구1      4689 non-null   object \n",
      " 18  피해자보호장구2      4689 non-null   object \n",
      " 19  법규위반          4689 non-null   object \n",
      " 20  가해자신체상해정도     4689 non-null   object \n",
      " 21  피해자신체상해정도     4689 non-null   object \n",
      " 22  가해자신체상해주부위    4689 non-null   object \n",
      " 23  피해자신체상해주부위    4689 non-null   object \n",
      " 24  가해자종별         4689 non-null   object \n",
      " 25  피해자종별         4689 non-null   object \n",
      " 26  차량용도가해자_대분류   4689 non-null   object \n",
      " 27  차량용도가해자_중분류   4689 non-null   object \n",
      " 28  차량용도가해자       4689 non-null   object \n",
      " 29  차량용도피해자_대분류   4689 non-null   object \n",
      " 30  차량용도피해자_중분류   4689 non-null   object \n",
      " 31  차량용도피해자       4689 non-null   object \n",
      " 32  도로종류          4689 non-null   object \n",
      " 33  도로형태1         4689 non-null   object \n",
      " 34  도로형태2         4689 non-null   object \n",
      " 35  기상상태          4689 non-null   object \n",
      " 36  노면상태          4689 non-null   object \n",
      " 37  사망            4689 non-null   int64  \n",
      " 38  중상            4689 non-null   int64  \n",
      " 39  경상            4689 non-null   int64  \n",
      " 40  부상신고          4689 non-null   int64  \n",
      " 41  사고번호          4689 non-null   int64  \n",
      " 42  발생일시          4689 non-null   int64  \n",
      " 43  사고유형_대분류      4689 non-null   object \n",
      " 44  사고유형_중분류      4689 non-null   object \n",
      " 45  사고유형          4689 non-null   object \n",
      " 46  가해자성별         4689 non-null   object \n",
      " 47  피해자성별         4689 non-null   object \n",
      " 48  연령가해자         4689 non-null   object \n",
      " 49  연령피해자         4689 non-null   object \n",
      " 50  보호장구가해자_대분류   4689 non-null   object \n",
      " 51  보호장구가해자       4689 non-null   object \n",
      " 52  보호장구피해자_대분류   4689 non-null   object \n",
      " 53  보호장구피해자       4689 non-null   object \n",
      " 54  법규위반가해자       4689 non-null   object \n",
      " 55  법규위반피해자       4689 non-null   object \n",
      " 56  행동유형가해자_대분류   4689 non-null   object \n",
      " 57  행동유형가해자_중분류   4689 non-null   object \n",
      " 58  행동유형가해자       4689 non-null   object \n",
      " 59  행동유형피해자_대분류   4689 non-null   object \n",
      " 60  행동유형피해자_중분류   4689 non-null   object \n",
      " 61  행동유형피해자       4689 non-null   object \n",
      " 62  신체상해정도가해자     4689 non-null   object \n",
      " 63  신체상해정도피해자     4689 non-null   object \n",
      " 64  당사자종별가해자_대분류  4689 non-null   object \n",
      " 65  당사자종별가해자      4689 non-null   object \n",
      " 66  당사자종별피해자_대분류  4689 non-null   object \n",
      " 67  당사자종별피해자      4689 non-null   object \n",
      " 68  도로형태_대분류      4689 non-null   object \n",
      " 69  도로형태          4689 non-null   object \n",
      " 70  노인보호구역        4689 non-null   object \n",
      " 71  어린이보호구역       4689 non-null   object \n",
      " 72  자전거도로         2601 non-null   object \n",
      " 73  도로선형_대분류      4689 non-null   object \n",
      " 74  도로선형_중분류      4689 non-null   object \n",
      " 75  도로선형          4689 non-null   object \n",
      " 76  노면상태_대분류      4689 non-null   object \n",
      " 77  교차로형태_대분류     4689 non-null   object \n",
      " 78  교차로형태         4689 non-null   object \n",
      " 79  사망자수          4689 non-null   int64  \n",
      " 80  중상자수          4689 non-null   int64  \n",
      " 81  경상자수          4689 non-null   int64  \n",
      " 82  부상신고자수        4689 non-null   int64  \n",
      " 83  사고위치폴리곤       4689 non-null   object \n",
      "dtypes: float64(1), int64(12), object(71)\n",
      "memory usage: 3.2+ MB\n"
     ]
    }
   ],
   "source": [
    "dataset_old_pedestrian.info()"
   ]
  },
  {
   "cell_type": "code",
   "execution_count": 120,
   "metadata": {},
   "outputs": [
    {
     "data": {
      "image/png": "[encoded data removed]",
      "text/plain": [
       "<Figure size 1152x288 with 1 Axes>"
      ]
     },
     "metadata": {
      "needs_background": "light"
     },
     "output_type": "display_data"
    }
   ],
   "source": [
    "fig, (ax1) = plt.subplots(1,1, figsize=(16,4))\n",
    "sns.countplot('법규위반',data=dataset_old_pedestrian, ax=ax1)\n",
    "plt.tight_layout()"
   ]
  },
  {
   "cell_type": "code",
   "execution_count": 122,
   "metadata": {},
   "outputs": [
    {
     "data": {
      "image/png": "[encoded data removed]",
      "text/plain": [
       "<Figure size 1152x288 with 1 Axes>"
      ]
     },
     "metadata": {
      "needs_background": "light"
     },
     "output_type": "display_data"
    }
   ],
   "source": [
    "fig, (ax1) = plt.subplots(1,1, figsize=(16,4))\n",
    "sns.countplot('행동유형가해자',data=dataset_old_pedestrian, ax=ax1)\n",
    "plt.tight_layout()"
   ]
  },
  {
   "cell_type": "code",
   "execution_count": 121,
   "metadata": {},
   "outputs": [
    {
     "data": {
      "image/png": "[encoded data removed]",
      "text/plain": [
       "<Figure size 1152x288 with 1 Axes>"
      ]
     },
     "metadata": {
      "needs_background": "light"
     },
     "output_type": "display_data"
    }
   ],
   "source": [
    "fig, (ax1) = plt.subplots(1,1, figsize=(16,4))\n",
    "sns.countplot('도로형태',data=dataset_old_pedestrian, ax=ax1)\n",
    "plt.tight_layout()"
   ]
  },
  {
   "cell_type": "code",
   "execution_count": 123,
   "metadata": {},
   "outputs": [
    {
     "data": {
      "image/png": "[encoded data removed]",
      "text/plain": [
       "<Figure size 1152x288 with 1 Axes>"
      ]
     },
     "metadata": {
      "needs_background": "light"
     },
     "output_type": "display_data"
    }
   ],
   "source": [
    "fig, (ax1) = plt.subplots(1,1, figsize=(16,4))\n",
    "sns.countplot('가해자종별',data=dataset_old_pedestrian, ax=ax1)\n",
    "plt.tight_layout()"
   ]
  },
  {
   "cell_type": "code",
   "execution_count": 124,
   "metadata": {},
   "outputs": [
    {
     "data": {
      "image/png": "[encoded data removed]",
      "text/plain": [
       "<Figure size 1152x288 with 1 Axes>"
      ]
     },
     "metadata": {
      "needs_background": "light"
     },
     "output_type": "display_data"
    }
   ],
   "source": [
    "fig, (ax1) = plt.subplots(1,1, figsize=(16,4))\n",
    "sns.countplot('기상상태',data=dataset_old_pedestrian, ax=ax1)\n",
    "plt.tight_layout()"
   ]
  },
  {
   "cell_type": "code",
   "execution_count": 128,
   "metadata": {},
   "outputs": [
    {
     "data": {
      "text/plain": [
       "'POLYGON((957101 1920401,957101 1920450,957150 1920450,957150 1920401,957101 1920401))'"
      ]
     },
     "execution_count": 128,
     "metadata": {},
     "output_type": "execute_result"
    }
   ],
   "source": [
    "dataset[\"사고위치폴리곤\"][0]"
   ]
  },
  {
   "cell_type": "code",
   "execution_count": 129,
   "metadata": {},
   "outputs": [
    {
     "data": {
      "text/html": [
       "<div>\n",
       "<style scoped>\n",
       "    .dataframe tbody tr th:only-of-type {\n",
       "        vertical-align: middle;\n",
       "    }\n",
       "\n",
       "    .dataframe tbody tr th {\n",
       "        vertical-align: top;\n",
       "    }\n",
       "\n",
       "    .dataframe thead th {\n",
       "        text-align: right;\n",
       "    }\n",
       "</style>\n",
       "<table border=\"1\" class=\"dataframe\">\n",
       "  <thead>\n",
       "    <tr style=\"text-align: right;\">\n",
       "      <th></th>\n",
       "      <th>발생년</th>\n",
       "      <th>발생일</th>\n",
       "      <th>발생시간</th>\n",
       "      <th>발생지_시도</th>\n",
       "      <th>발생지_시군구</th>\n",
       "      <th>요일</th>\n",
       "      <th>주야</th>\n",
       "      <th>사고내용</th>\n",
       "      <th>사고유형1</th>\n",
       "      <th>사고유형2</th>\n",
       "      <th>...</th>\n",
       "      <th>도로선형_중분류</th>\n",
       "      <th>도로선형</th>\n",
       "      <th>노면상태_대분류</th>\n",
       "      <th>교차로형태_대분류</th>\n",
       "      <th>교차로형태</th>\n",
       "      <th>사망자수</th>\n",
       "      <th>중상자수</th>\n",
       "      <th>경상자수</th>\n",
       "      <th>부상신고자수</th>\n",
       "      <th>사고위치폴리곤</th>\n",
       "    </tr>\n",
       "  </thead>\n",
       "  <tbody>\n",
       "    <tr>\n",
       "      <th>0</th>\n",
       "      <td>2015</td>\n",
       "      <td>20150101</td>\n",
       "      <td>00시-02시</td>\n",
       "      <td>경기</td>\n",
       "      <td>부천시</td>\n",
       "      <td>목</td>\n",
       "      <td>야</td>\n",
       "      <td>중상</td>\n",
       "      <td>차대차</td>\n",
       "      <td>측면충돌</td>\n",
       "      <td>...</td>\n",
       "      <td>직선</td>\n",
       "      <td>평지</td>\n",
       "      <td>포장</td>\n",
       "      <td>교차로아님</td>\n",
       "      <td>교차로아님</td>\n",
       "      <td>0</td>\n",
       "      <td>0</td>\n",
       "      <td>2</td>\n",
       "      <td>0</td>\n",
       "      <td>POLYGON((957101 1920401,957101 1920450,957150 ...</td>\n",
       "    </tr>\n",
       "    <tr>\n",
       "      <th>1</th>\n",
       "      <td>2015</td>\n",
       "      <td>20150101</td>\n",
       "      <td>00시-02시</td>\n",
       "      <td>경기</td>\n",
       "      <td>부천시</td>\n",
       "      <td>목</td>\n",
       "      <td>야</td>\n",
       "      <td>경상</td>\n",
       "      <td>차대사람</td>\n",
       "      <td>횡단중</td>\n",
       "      <td>...</td>\n",
       "      <td>직선</td>\n",
       "      <td>오르막</td>\n",
       "      <td>포장</td>\n",
       "      <td>교차로아님</td>\n",
       "      <td>교차로아님</td>\n",
       "      <td>0</td>\n",
       "      <td>1</td>\n",
       "      <td>0</td>\n",
       "      <td>0</td>\n",
       "      <td>POLYGON((958051 1920951,958051 1921000,958100 ...</td>\n",
       "    </tr>\n",
       "  </tbody>\n",
       "</table>\n",
       "<p>2 rows × 84 columns</p>\n",
       "</div>"
      ],
      "text/plain": [
       "    발생년       발생일     발생시간 발생지_시도 발생지_시군구 요일 주야 사고내용 사고유형1 사고유형2  ...  \\\n",
       "0  2015  20150101  00시-02시     경기     부천시  목  야   중상   차대차  측면충돌  ...   \n",
       "1  2015  20150101  00시-02시     경기     부천시  목  야   경상  차대사람   횡단중  ...   \n",
       "\n",
       "  도로선형_중분류 도로선형  노면상태_대분류 교차로형태_대분류  교차로형태 사망자수 중상자수 경상자수 부상신고자수  \\\n",
       "0       직선   평지        포장     교차로아님  교차로아님    0    0    2      0   \n",
       "1       직선  오르막        포장     교차로아님  교차로아님    0    1    0      0   \n",
       "\n",
       "                                             사고위치폴리곤  \n",
       "0  POLYGON((957101 1920401,957101 1920450,957150 ...  \n",
       "1  POLYGON((958051 1920951,958051 1921000,958100 ...  \n",
       "\n",
       "[2 rows x 84 columns]"
      ]
     },
     "execution_count": 129,
     "metadata": {},
     "output_type": "execute_result"
    }
   ],
   "source": [
    "dataset.head(2)"
   ]
  },
  {
   "cell_type": "code",
   "execution_count": 130,
   "metadata": {},
   "outputs": [
    {
     "data": {
      "text/plain": [
       "array(['기타불명', '음주운전', '측정불능', '해당 없음', '음주상태'], dtype=object)"
      ]
     },
     "execution_count": 130,
     "metadata": {},
     "output_type": "execute_result"
    }
   ],
   "source": [
    "dataset[\"가해자음주1\"].unique()"
   ]
  },
  {
   "cell_type": "code",
   "execution_count": 136,
   "metadata": {},
   "outputs": [],
   "source": [
    "dataset_alcohol=dataset[(dataset[\"가해자음주1\"]==\"음주운전\") | (dataset[\"가해자음주1\"]==\"측정불능\") | (dataset[\"가해자음주1\"]==\"음주상태\")]"
   ]
  },
  {
   "cell_type": "code",
   "execution_count": 138,
   "metadata": {},
   "outputs": [
    {
     "data": {
      "image/png": "[encoded data removed]",
      "text/plain": [
       "<Figure size 1152x288 with 1 Axes>"
      ]
     },
     "metadata": {
      "needs_background": "light"
     },
     "output_type": "display_data"
    }
   ],
   "source": [
    "fig, (ax1) = plt.subplots(1,1, figsize=(16,4))\n",
    "sns.countplot('가해자음주2',data=dataset_alcohol, ax=ax1)\n",
    "plt.tight_layout()"
   ]
  },
  {
   "cell_type": "code",
   "execution_count": 141,
   "metadata": {},
   "outputs": [
    {
     "data": {
      "text/plain": [
       "array([37., 24., 32., 35., 28., 20., 55., 64., 31., 30., 47., 60., 69.,\n",
       "       41., 29., 58., 43., 48., 40., 57., 27., 53., 39., 36., 49., 22.,\n",
       "       61., 54., 56., 44., 51., 34., 23., 45., 38., 42., 25., 52., 46.,\n",
       "       33., 62., 50., 21., 68., 59., 26., 66., 18., 72., 65., 63., 71.,\n",
       "       17., 79., 19., 16., 74., 67., 73., 75., 70., 78., 80., 76., 83.,\n",
       "       nan])"
      ]
     },
     "execution_count": 141,
     "metadata": {},
     "output_type": "execute_result"
    }
   ],
   "source": [
    "dataset_alcohol[\"가해자연령\"].unique()"
   ]
  },
  {
   "cell_type": "code",
   "execution_count": 140,
   "metadata": {},
   "outputs": [],
   "source": [
    "pick_float=[]\n",
    "pick_float2=[]\n",
    "\n",
    "for i in dataset_alcohol[\"가해자연령\"]:\n",
    "    pick_float=re.findall(\"[0-9.]+\",i)\n",
    "    pick_float2+=pick_float\n",
    "\n",
    "pick_float3=pd.Series(pick_float2)\n",
    "dataset_alcohol[\"가해자연령\"]=pick_float3\n",
    "dataset_alcohol[\"가해자연령\"]=pd.to_numeric(dataset_alcohol[\"가해자연령\"])"
   ]
  },
  {
   "cell_type": "code",
   "execution_count": 142,
   "metadata": {},
   "outputs": [
    {
     "data": {
      "image/png": "[encoded data removed]",
      "text/plain": [
       "<Figure size 1152x288 with 1 Axes>"
      ]
     },
     "metadata": {
      "needs_background": "light"
     },
     "output_type": "display_data"
    }
   ],
   "source": [
    "fig, (ax1) = plt.subplots(1,1, figsize=(16,4))\n",
    "sns.countplot('가해자연령',data=dataset_alcohol, ax=ax1)\n",
    "plt.tight_layout()"
   ]
  },
  {
   "cell_type": "code",
   "execution_count": 144,
   "metadata": {},
   "outputs": [
    {
     "data": {
      "text/plain": [
       "array(['남', '여', '기타불명'], dtype=object)"
      ]
     },
     "execution_count": 144,
     "metadata": {},
     "output_type": "execute_result"
    }
   ],
   "source": [
    "dataset_alcohol[\"가해자성별\"].unique()"
   ]
  },
  {
   "cell_type": "code",
   "execution_count": 145,
   "metadata": {},
   "outputs": [
    {
     "data": {
      "image/png": "[encoded data removed]",
      "text/plain": [
       "<Figure size 1152x288 with 1 Axes>"
      ]
     },
     "metadata": {
      "needs_background": "light"
     },
     "output_type": "display_data"
    }
   ],
   "source": [
    "fig, (ax1) = plt.subplots(1,1, figsize=(16,4))\n",
    "sns.countplot('가해자성별',data=dataset_alcohol, ax=ax1)\n",
    "plt.tight_layout()"
   ]
  },
  {
   "cell_type": "code",
   "execution_count": null,
   "metadata": {},
   "outputs": [],
   "source": []
  },
  {
   "cell_type": "code",
   "execution_count": null,
   "metadata": {},
   "outputs": [],
   "source": []
  },
  {
   "cell_type": "code",
   "execution_count": null,
   "metadata": {},
   "outputs": [],
   "source": []
  }
 ],
 "metadata": {
  "kernelspec": {
   "display_name": "Python 3",
   "language": "python",
   "name": "python3"
  },
  "language_info": {
   "codemirror_mode": {
    "name": "ipython",
    "version": 3
   },
   "file_extension": ".py",
   "mimetype": "text/x-python",
   "name": "python",
   "nbconvert_exporter": "python",
   "pygments_lexer": "ipython3",
   "version": "3.8.3"
  }
 },
 "nbformat": 4,
 "nbformat_minor": 4
}
